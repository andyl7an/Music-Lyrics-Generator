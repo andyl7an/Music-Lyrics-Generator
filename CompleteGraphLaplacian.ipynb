{
 "cells": [
  {
   "cell_type": "markdown",
   "metadata": {
    "nbgrader": {}
   },
   "source": [
    "# Complete graph Laplacian"
   ]
  },
  {
   "cell_type": "markdown",
   "metadata": {
    "nbgrader": {}
   },
   "source": [
    "## Imports"
   ]
  },
  {
   "cell_type": "code",
   "execution_count": 10,
   "metadata": {
    "collapsed": false,
    "nbgrader": {}
   },
   "outputs": [],
   "source": [
    "import numpy as np\n",
    "%matplotlib inline\n",
    "import matplotlib.pyplot as plt"
   ]
  },
  {
   "cell_type": "markdown",
   "metadata": {
    "nbgrader": {}
   },
   "source": [
    "In discrete mathematics a [Graph](http://en.wikipedia.org/wiki/Graph_%28mathematics%29) is a set of *vertices* or *nodes* that are connected to each other by *edges* or *lines*. If those *edges* don't have directionality, the graph is said to be *undirected*. Graphs are used to model social and communications networks (Twitter, Facebook, Internet) as well as natural systems such as molecules.\n",
    "\n",
    "A [Complete Graph](http://en.wikipedia.org/wiki/Complete_graph), $K_n$ on $n$ nodes has an edge that connects each node to every other node.\n",
    "\n",
    "Here is $K_5$:"
   ]
  },
  {
   "cell_type": "code",
   "execution_count": 11,
   "metadata": {
    "collapsed": false,
    "nbgrader": {}
   },
   "outputs": [
    {
     "name": "stdout",
     "output_type": "stream",
     "text": [
      "complete_graph(5)\n"
     ]
    },
    {
     "data": {
      "image/png": "[encoded data removed]",
      "text/plain": [
       "<matplotlib.figure.Figure at 0x7f89182100f0>"
      ]
     },
     "metadata": {},
     "output_type": "display_data"
    }
   ],
   "source": [
    "import networkx as nx\n",
    "K_5=nx.complete_graph(5)\n",
    "nx.draw(K_5)\n",
    "print(K_5)"
   ]
  },
  {
   "cell_type": "markdown",
   "metadata": {
    "collapsed": false,
    "nbgrader": {}
   },
   "source": [
    "The [Laplacian Matrix](http://en.wikipedia.org/wiki/Laplacian_matrix) is a matrix that is extremely important in graph theory and numerical analysis. It is defined as $L=D-A$. Where $D$ is the [degree matrix](https://en.wikipedia.org/wiki/Degree_matrix) and $A$ is the [adjecency matrix](https://en.wikipedia.org/wiki/Adjacency_matrix). For the purpose of this problem you don't need to understand the details of these matrices, although their definitions are relatively simple (I encourage you to follow the links above and read about them).\n",
    "\n",
    "The degree matrix for $K_n$ is an $n \\times n$ diagonal matrix with the value $n-1$ along the diagonal and zeros everywhere else. Write a function to compute the degree matrix for $K_n$ using NumPy."
   ]
  },
  {
   "cell_type": "code",
   "execution_count": 20,
   "metadata": {
    "collapsed": true,
    "deletable": false,
    "nbgrader": {
     "checksum": "251bf113f2e9a7b057fb69931255ec80",
     "grade": false,
     "grade_id": "completegrapha",
     "locked": false,
     "solution": true
    }
   },
   "outputs": [],
   "source": [
    "def complete_deg(n):\n",
    "    \"\"\"Return the integer valued degree matrix D for the complete graph K_n.\"\"\"\n",
    "    board = np.zeros((n,n))\n",
    "    \n",
    " \n",
    "    for i in range(n):\n",
    "        board[i][i] = n -1\n",
    "    board= board.astype(int)\n",
    "    return board"
   ]
  },
  {
   "cell_type": "code",
   "execution_count": 21,
   "metadata": {
    "collapsed": false,
    "deletable": false,
    "nbgrader": {
     "checksum": "e2225ed17d8b7c0950bbea55d1a169a4",
     "grade": true,
     "grade_id": "completegraphb",
     "points": 3
    }
   },
   "outputs": [],
   "source": [
    "D = complete_deg(5)\n",
    "assert D.shape==(5,5)\n",
    "assert D.dtype==np.dtype(int)\n",
    "assert np.all(D.diagonal()==4*np.ones(5))\n",
    "assert np.all(D-np.diag(D.diagonal())==np.zeros((5,5),dtype=int))"
   ]
  },
  {
   "cell_type": "markdown",
   "metadata": {
    "nbgrader": {}
   },
   "source": [
    "The adjacency matrix for $K_n$ is an $n \\times n$ matrix with zeros along the diagonal and ones everywhere else. Write a function to compute the adjacency matrix for $K_n$ using NumPy."
   ]
  },
  {
   "cell_type": "code",
   "execution_count": 22,
   "metadata": {
    "collapsed": true,
    "deletable": false,
    "nbgrader": {
     "checksum": "a1e20496042084d727b017d8acc7aac4",
     "grade": false,
     "grade_id": "completegraphc",
     "locked": false,
     "solution": true
    }
   },
   "outputs": [],
   "source": [
    "def complete_adj(n):\n",
    "    \"\"\"Return the integer valued adjacency matrix A for the complete graph K_n.\"\"\"\n",
    "    board = np.ones((n,n))\n",
    "    for i in range(n):\n",
    "        board[i][i] = 0\n",
    "    board = board.astype(int)\n",
    "    return board"
   ]
  },
  {
   "cell_type": "code",
   "execution_count": 23,
   "metadata": {
    "collapsed": false,
    "deletable": false,
    "nbgrader": {
     "checksum": "883e25c80532ae29a76c49682292e1c4",
     "grade": true,
     "grade_id": "completegraphd",
     "points": 3
    }
   },
   "outputs": [],
   "source": [
    "A = complete_adj(5)\n",
    "assert A.shape==(5,5)\n",
    "assert A.dtype==np.dtype(int)\n",
    "assert np.all(A+np.eye(5,dtype=int)==np.ones((5,5),dtype=int))"
   ]
  },
  {
   "cell_type": "markdown",
   "metadata": {
    "nbgrader": {}
   },
   "source": [
    "Use NumPy to explore the eigenvalues or *spectrum* of the Laplacian *L* of $K_n$. What patterns do you notice as $n$ changes? Create a *conjecture* about the general Laplace *spectrum* of $K_n$."
   ]
  },
  {
   "cell_type": "code",
   "execution_count": 24,
   "metadata": {
    "collapsed": false
   },
   "outputs": [
    {
     "data": {
      "text/plain": [
       "array([[2, 0, 0],\n",
       "       [0, 2, 0],\n",
       "       [0, 0, 2]])"
      ]
     },
     "execution_count": 24,
     "metadata": {},
     "output_type": "execute_result"
    }
   ],
   "source": [
    "complete_deg(3)"
   ]
  },
  {
   "cell_type": "code",
   "execution_count": 33,
   "metadata": {
    "collapsed": false,
    "deletable": false,
    "nbgrader": {
     "checksum": "5ca9adcbecfdbb7e14b0f227f5de7343",
     "grade": true,
     "grade_id": "completegraphe",
     "locked": false,
     "points": 2,
     "solution": true
    }
   },
   "outputs": [
    {
     "name": "stdout",
     "output_type": "stream",
     "text": [
      "1\n",
      "[ 0.]\n",
      "2\n",
      "[ 2.  0.]\n",
      "3\n",
      "[  3.00000000e+00  -4.44089210e-16   3.00000000e+00]\n",
      "4\n",
      "[  4.00000000e+00  -1.11022302e-16   4.00000000e+00   4.00000000e+00]\n",
      "5\n",
      "[ 5.  0.  5.  5.  5.]\n",
      "6\n",
      "[  6.00000000e+00  -6.66133815e-16   6.00000000e+00   6.00000000e+00\n",
      "   6.00000000e+00   6.00000000e+00]\n"
     ]
    }
   ],
   "source": [
    "for i in range(1,7):\n",
    "    deg = complete_deg(i)\n",
    "    adj = complete_adj(i)\n",
    "    lap = deg - adj\n",
    "    print(i)\n",
    "    print(np.linalg.eigvals(lap))"
   ]
  },
  {
   "cell_type": "markdown",
   "metadata": {},
   "source": [
    "In a few sentences, propose a *conjecture* about the general Laplace *spectrum* of $K_n$:"
   ]
  },
  {
   "cell_type": "markdown",
   "metadata": {
    "collapsed": true,
    "deletable": false,
    "nbgrader": {
     "checksum": "2e4d948885370eb420b28323df184497",
     "grade": true,
     "grade_id": "completegraphf",
     "points": 2,
     "solution": true
    }
   },
   "source": [
    "From what I've observed, it seems that the diagonal values will always be equal to n-1. Every other value in the matrix will be equal to -1. It appears that the eigenvalues will be extremely close to the value of n with the exception of one eigenvalue in each return."
   ]
  }
 ],
 "metadata": {
  "kernelspec": {
   "display_name": "Python 3",
   "language": "python",
   "name": "python3"
  },
  "language_info": {
   "codemirror_mode": {
    "name": "ipython",
    "version": 3
   },
   "file_extension": ".py",
   "mimetype": "text/x-python",
   "name": "python",
   "nbconvert_exporter": "python",
   "pygments_lexer": "ipython3",
   "version": "3.4.3"
  }
 },
 "nbformat": 4,
 "nbformat_minor": 0
}
