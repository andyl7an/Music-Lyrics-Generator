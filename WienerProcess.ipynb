{
 "cells": [
  {
   "cell_type": "markdown",
   "metadata": {
    "nbgrader": {}
   },
   "source": [
    "# Wiener Process"
   ]
  },
  {
   "cell_type": "markdown",
   "metadata": {
    "nbgrader": {}
   },
   "source": [
    "## Imports"
   ]
  },
  {
   "cell_type": "code",
   "execution_count": 1,
   "metadata": {
    "collapsed": true,
    "nbgrader": {}
   },
   "outputs": [],
   "source": [
    "import numpy as np\n",
    "%matplotlib inline\n",
    "import matplotlib.pyplot as plt\n",
    "from matplotlib import style\n",
    "style.use('seaborn-darkgrid')"
   ]
  },
  {
   "cell_type": "markdown",
   "metadata": {
    "nbgrader": {}
   },
   "source": [
    "## Wiener process"
   ]
  },
  {
   "cell_type": "markdown",
   "metadata": {
    "nbgrader": {}
   },
   "source": [
    "Many times series have some measure of randomness. One way of modeling these random processes is using a [Wiener Process](http://en.wikipedia.org/wiki/Wiener_process). For our purposes, A Wiener Process $W(t)$ is a time series for which:\n",
    "\n",
    "* $W(t=0)=0$\n",
    "* For any finite time difference $h$, $W(t+h)-W(t)\\sim\\mathcal{N}(0,h)$\n",
    "\n",
    "In other words, subsequent values in the time series are normally distributed with a mean of $0$ and variance $h$ and the time series starts with a value of zero. The Wiener Process is also known as Brownian motion; the behavior is identical to that observed in physical diffusion processes.\n",
    "\n",
    "With this in mind, write a function, `wiener(tmax, n)`, that simulates a discrete Wiener process. Your function should take the maximum time $t_{max}$ and the number of steps `n` and return a tuple of two arrays with length `n`:\n",
    "\n",
    "* An array of times used $t_i$\n",
    "* An array of the values of the Wiener process at those times $W_i = W(t_i)$\n",
    "\n",
    "Here is a rough sketch of how to approach this:\n",
    "\n",
    "1. Create an array of `n` times $t \\in [0,t_{max}]$\n",
    "2. Find the time difference $h=t_1-t_0$\n",
    "3. Draw `n-1` random numbers appropriate for the Wiener process\n",
    "4. Perform a cumulative sum of the random numbers\n",
    "\n",
    "Use NumPy and no for loops in your implementation."
   ]
  },
  {
   "cell_type": "code",
   "execution_count": 2,
   "metadata": {
    "collapsed": false,
    "deletable": false,
    "nbgrader": {
     "checksum": "cabde7a2d2619b6ad233cec9f613ec67",
     "grade": true,
     "grade_id": "wienera",
     "locked": false,
     "points": 2,
     "solution": true
    }
   },
   "outputs": [],
   "source": [
    "def wiener(tmax, n):\n",
    "    \"\"\"Return one realization of a Wiener process with n steps and a max time of tmax.\"\"\"\n",
    "    t = np.linspace(0,tmax,n)\n",
    "    h = t[1] - t[0]\n",
    "    \n",
    "    W = np.random.uniform(low = -1*h, high = h, size = n-1)\n",
    "    zero = np.array([0.0])\n",
    "    W = np.concatenate([zero, W])\n",
    "    W = W.cumsum()\n",
    "    \n",
    "    \n",
    "    total = sum(W)\n",
    "    return (t,W)\n",
    "    \n",
    "    "
   ]
  },
  {
   "cell_type": "code",
   "execution_count": null,
   "metadata": {
    "collapsed": true
   },
   "outputs": [],
   "source": []
  },
  {
   "cell_type": "markdown",
   "metadata": {
    "nbgrader": {}
   },
   "source": [
    "Call the `wiener` function to simulate a Wiener process with `1000` steps and max time of `1.0`. Save the results as two arrays `t` and `W`."
   ]
  },
  {
   "cell_type": "code",
   "execution_count": 3,
   "metadata": {
    "collapsed": false,
    "deletable": false,
    "nbgrader": {
     "checksum": "564fd722a6385fdef4d737962cf7b38b",
     "grade": true,
     "grade_id": "wienerb",
     "locked": false,
     "points": 1,
     "solution": true
    }
   },
   "outputs": [],
   "source": [
    "x = wiener(1.0,1000)\n",
    "t = x[0]\n",
    "W = x[1]\n"
   ]
  },
  {
   "cell_type": "code",
   "execution_count": 4,
   "metadata": {
    "collapsed": false,
    "deletable": false,
    "nbgrader": {
     "checksum": "a989e4f58793fd0c14086b225d1cb793",
     "grade": true,
     "grade_id": "wienerc",
     "points": 1
    }
   },
   "outputs": [],
   "source": [
    "assert isinstance(t, np.ndarray)\n",
    "assert isinstance(W, np.ndarray)\n",
    "assert t.dtype==np.dtype(float)\n",
    "assert W.dtype==np.dtype(float)\n",
    "assert len(t)==len(W)==1000\n",
    "assert W[0]==0.0"
   ]
  },
  {
   "cell_type": "markdown",
   "metadata": {
    "nbgrader": {}
   },
   "source": [
    "Visualize the process using `plt.plot` with `t` on the x-axis and `W(t)` on the y-axis. Label your x and y axes."
   ]
  },
  {
   "cell_type": "code",
   "execution_count": 5,
   "metadata": {
    "collapsed": false,
    "deletable": false,
    "nbgrader": {
     "checksum": "7de0eba58d015575cea983581f515868",
     "grade": true,
     "grade_id": "wienerd",
     "locked": false,
     "points": 2,
     "solution": true
    }
   },
   "outputs": [
    {
     "data": {
      "text/plain": [
       "<matplotlib.text.Text at 0x7ff54914e320>"
      ]
     },
     "execution_count": 5,
     "metadata": {},
     "output_type": "execute_result"
    },
    {
     "data": {
      "image/png": "[encoded data removed]",
      "text/plain": [
       "<matplotlib.figure.Figure at 0x7ff549129080>"
      ]
     },
     "metadata": {},
     "output_type": "display_data"
    }
   ],
   "source": [
    "plt.plot(t,W)\n",
    "plt.xlabel(\"t\")\n",
    "plt.ylabel(\"W(t)\")"
   ]
  },
  {
   "cell_type": "markdown",
   "metadata": {},
   "source": [
    "For a given time $t$, $W(t)$ is itself a random variable. Thus if you keep calling `wiener(tmax, n)`, the value of process at the final time will be different each time. To see this, run the following cell a bunch of times. This cell keeps printing the value $W(2.0)$:"
   ]
  },
  {
   "cell_type": "code",
   "execution_count": 6,
   "metadata": {
    "collapsed": false
   },
   "outputs": [
    {
     "name": "stdout",
     "output_type": "stream",
     "text": [
      "0.0685848043682\n"
     ]
    }
   ],
   "source": [
    "t1, W1 = wiener(2.0, 100)\n",
    "print(W1[-1])"
   ]
  },
  {
   "cell_type": "markdown",
   "metadata": {},
   "source": [
    "There are a number of important theoretical results about the random variable $W(t)$:\n",
    "\n",
    "* It has a mean of 0, or $E[W(t)]$=0.0.\n",
    "* It has a variance of $t$, or $E[W(t)^2]-E^2[W(t)]=t$\n",
    "\n",
    "For $t=2.0$ perform 500 simulations of $W(2.0)$, each with 500 points, and show that the mean is close to $0.0$ and variance close to $2.0$."
   ]
  },
  {
   "cell_type": "code",
   "execution_count": 7,
   "metadata": {
    "collapsed": false,
    "deletable": false,
    "nbgrader": {
     "checksum": "a3604700dac4145fa254fc978e936333",
     "grade": true,
     "grade_id": "wienere",
     "locked": false,
     "points": 2,
     "solution": true
    }
   },
   "outputs": [
    {
     "name": "stdout",
     "output_type": "stream",
     "text": [
      "0.0016687325149\n",
      "0.00255664963987\n"
     ]
    }
   ],
   "source": [
    "total = []\n",
    "for i in range(500):\n",
    "    t1, W1 = wiener(2.0, 500)\n",
    "    total.append( W1[-1])\n",
    "print(np.mean(total))\n",
    "print(np.var(total))"
   ]
  },
  {
   "cell_type": "markdown",
   "metadata": {},
   "source": [
    "## Geometric brownian motion"
   ]
  },
  {
   "cell_type": "markdown",
   "metadata": {
    "nbgrader": {}
   },
   "source": [
    "[Geometric Brownian Motion](https://en.wikipedia.org/wiki/Geometric_Brownian_motion) is another type of stochastic time series that can be generated using the Wiener Process. Given a Wiener process $W(t)$, the corresponding Geometric Brownian process $X(t)$ is:\n",
    "\n",
    "$$\n",
    "X(t) = X_0 e^{((\\mu - \\sigma^2/2)t + \\sigma W(t))}\n",
    "$$\n",
    "\n",
    "The parameters $\\mu$ and $\\sigma$ are known as the *drift* and *volatility* of the process respectively, and $X_0$ is the initial condition $X(t=0)=X_0$. Geometric Brownian motion is used in modelling the prices of financial instruments such as stocks.\n",
    "\n",
    "Write a function, `geo_brownian`, that generates geometric brownian motion from an existing Wiener process.\n",
    "\n",
    "Use Numpy and no for loops in your function."
   ]
  },
  {
   "cell_type": "code",
   "execution_count": 8,
   "metadata": {
    "collapsed": false,
    "deletable": false,
    "nbgrader": {
     "checksum": "9842ce1b3a8f61eff8c60ab8f042a2d9",
     "grade": false,
     "grade_id": "wienerf",
     "locked": false,
     "points": 2,
     "solution": true
    }
   },
   "outputs": [],
   "source": [
    "\n",
    "def geo_brownian(t, W, X0, mu, sigma):\n",
    "    \"\"\"Return X(t) for geometric brownian motion with drift mu, volatility sigma.\n",
    "    \n",
    "    Parameters\n",
    "    ----------\n",
    "    t: np.ndarray\n",
    "        NumPy array of equally spaced time values\n",
    "    W: np.ndarray\n",
    "        NumPy arary for a Wiener process at those time values\n",
    "    X0: float\n",
    "        The initial value of the Geometric Brownian process\n",
    "    mu: float\n",
    "        The drift mu of the Geometric Brownian process\n",
    "    sigma: float\n",
    "        The volatility of the Goemetric Brownian process.\n",
    "    \"\"\"\n",
    "    ptOne = ((mu - (sigma *sigma))/2)*t\n",
    "    ptTwo = W*mu\n",
    "    ptThree = ptOne + ptTwo\n",
    "    ptThree = np.exp(ptThree)\n",
    "    res = ptThree*X0\n",
    "    return res"
   ]
  },
  {
   "cell_type": "markdown",
   "metadata": {
    "nbgrader": {}
   },
   "source": [
    "Use your function to simulate geometric brownian motion, $X(t)$ for $X_0=1.0$, $\\mu=0.5$ and $\\sigma=0.3$ with the Wiener process you computed above.\n",
    "\n",
    "Visualize the process using `plt.plot` with `t` on the x-axis and `X(t)` on the y-axis. Label your x and y axes."
   ]
  },
  {
   "cell_type": "code",
   "execution_count": 9,
   "metadata": {
    "collapsed": false,
    "deletable": false,
    "nbgrader": {
     "checksum": "47977ef9364c1c7586dd0c15cfd3d0dd",
     "grade": true,
     "grade_id": "wienerg",
     "locked": false,
     "points": 2,
     "solution": true
    }
   },
   "outputs": [
    {
     "data": {
      "text/plain": [
       "<matplotlib.text.Text at 0x7ff549091518>"
      ]
     },
     "execution_count": 9,
     "metadata": {},
     "output_type": "execute_result"
    },
    {
     "data": {
      "image/png": "[encoded data removed]",
      "text/plain": [
       "<matplotlib.figure.Figure at 0x7ff549155748>"
      ]
     },
     "metadata": {},
     "output_type": "display_data"
    }
   ],
   "source": [
    "xt = geo_brownian(t1,W1, 1.0, 0.5, 0.3)\n",
    "\n",
    "plt.plot(t1,xt)\n",
    "plt.xlabel(\"t\")\n",
    "plt.ylabel(\"X(t)\")"
   ]
  }
 ],
 "metadata": {
  "kernelspec": {
   "display_name": "Python 3",
   "language": "python",
   "name": "python3"
  },
  "language_info": {
   "codemirror_mode": {
    "name": "ipython",
    "version": 3
   },
   "file_extension": ".py",
   "mimetype": "text/x-python",
   "name": "python",
   "nbconvert_exporter": "python",
   "pygments_lexer": "ipython3",
   "version": "3.4.3"
  }
 },
 "nbformat": 4,
 "nbformat_minor": 0
}
